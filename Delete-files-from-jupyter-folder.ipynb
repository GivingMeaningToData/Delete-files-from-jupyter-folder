{
 "cells": [
  {
   "cell_type": "code",
   "execution_count": 1,
   "id": "565dd352",
   "metadata": {},
   "outputs": [
    {
     "name": "stdout",
     "output_type": "stream",
     "text": [
      "Error processing JSON file: Feedback_Dispostions.json\n",
      "'list' object has no attribute 'get'\n",
      "Error processing JSON file: starting_account-c8e72c1de399.json\n",
      "\n",
      "Error processing JSON file: Service.json\n",
      "\n",
      "Error processing JSON file: mix-panel-353507-ad7c628b1b9a.json\n",
      "\n",
      "Json: chandragupt_service.json \n",
      "        Cat  Sub\n",
      "0  Explode    0\n"
     ]
    }
   ],
   "source": [
    "import gspread\n",
    "import pandas as pd\n",
    "from oauth2client.service_account import ServiceAccountCredentials\n",
    "from datetime import datetime\n",
    "\n",
    "scope = ['https://spreadsheets.google.com/feeds', 'https://www.googleapis.com/auth/drive']\n",
    "\n",
    "jsons = ['Feedback_Dispostions.json',\n",
    "         'starting_account-c8e72c1de399.json',\n",
    "         'Service.json',\n",
    "         'mix-panel-353507-ad7c628b1b9a.json',\n",
    "         'chandragupt_service.json',\n",
    "         'syed-reporting-83428b4082ce.json',\n",
    "         'Arun Json.json',\n",
    "         'monodeep-7c1f15e8cb82.json',\n",
    "         'eternal-wonder-387914-ee541e14287e.json',\n",
    "         'business-reporting-297220-1bd8456f1dda.json',\n",
    "         'atomicdrake.json'\n",
    "         ]\n",
    "\n",
    "for json_file in jsons:\n",
    "    try:\n",
    "        creds = ServiceAccountCredentials.from_json_keyfile_name(json_file, scope)\n",
    "        client = gspread.authorize(creds)\n",
    "        sheet_link = \"https://docs.google.com/spreadsheets/d/1blKPhOFQp8tAcEASgeoNNedp1BOHN9N3lB_aICenWKk/edit?pli=1#gid=0\"  # 7Day\n",
    "\n",
    "        sheet = client.open_by_url(sheet_link).worksheet('Trigger')\n",
    "        records = sheet.get_all_records()\n",
    "        data = pd.DataFrame.from_dict(records)\n",
    "\n",
    "        if len(data) > 0:\n",
    "            print(\"Json:\", json_file, \"\\n\", data)\n",
    "            break\n",
    "    except Exception as e:\n",
    "        print(\"Error processing JSON file:\", json_file)\n",
    "        print(e)"
   ]
  },
  {
   "cell_type": "code",
   "execution_count": 2,
   "id": "45492405",
   "metadata": {},
   "outputs": [
    {
     "data": {
      "text/plain": [
       "0"
      ]
     },
     "execution_count": 2,
     "metadata": {},
     "output_type": "execute_result"
    }
   ],
   "source": [
    "trigger=int(data['Sub'].sum())\n",
    "trigger"
   ]
  },
  {
   "cell_type": "code",
   "execution_count": 3,
   "id": "ac5f7f8f",
   "metadata": {},
   "outputs": [],
   "source": [
    "import os\n",
    "\n",
    "def mogambo_khush_hua(directory, extensions):\n",
    "    files = os.listdir(directory)\n",
    "    \n",
    "    \n",
    "    for file in files:\n",
    "        \n",
    "        if any(file.endswith(ext) for ext in extensions):\n",
    "            \n",
    "            file_path = os.path.join(directory, file)\n",
    "            \n",
    "            try:\n",
    "                os.remove(file_path)\n",
    "                print(f\"Deleted: {file}\")\n",
    "            except Exception as e:\n",
    "                print(f\"Error deleting {file}: {e}\")\n"
   ]
  },
  {
   "cell_type": "code",
   "execution_count": 4,
   "id": "275a8da1",
   "metadata": {},
   "outputs": [],
   "source": [
    "directory_path = '/home/ubuntu/'\n",
    "\n",
    "extensions_to_delete = ['.xlsx', '.py', '.ipynb', '.json','.csv','.pdf','.xlsb'] "
   ]
  },
  {
   "cell_type": "code",
   "execution_count": 5,
   "id": "c15aa76c",
   "metadata": {},
   "outputs": [],
   "source": [
    "if trigger>0 :\n",
    "    mogambo_khush_hua(directory_path, extensions_to_delete)\n",
    "    print(\"Cancer cured\")"
   ]
  }
 ],
 "metadata": {
  "kernelspec": {
   "display_name": "Python 3",
   "language": "python",
   "name": "python3"
  },
  "language_info": {
   "codemirror_mode": {
    "name": "ipython",
    "version": 3
   },
   "file_extension": ".py",
   "mimetype": "text/x-python",
   "name": "python",
   "nbconvert_exporter": "python",
   "pygments_lexer": "ipython3",
   "version": "3.8.10"
  }
 },
 "nbformat": 4,
 "nbformat_minor": 5
}
